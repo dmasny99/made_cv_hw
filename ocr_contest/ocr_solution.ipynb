{
 "cells": [
  {
   "cell_type": "code",
   "execution_count": 1,
   "metadata": {
    "id": "K4AAaMmXaHdQ"
   },
   "outputs": [],
   "source": [
    "import pandas as pd\n",
    "import os.path as osp\n",
    "import numpy as np\n",
    "import torch\n",
    "from torch.utils.data import Dataset\n",
    "from sklearn.model_selection import train_test_split\n",
    "from collections import defaultdict\n",
    "import matplotlib.pyplot as plt\n",
    "import torch\n",
    "from torch.utils.data import Dataset, DataLoader\n",
    "import torchvision.transforms as T\n",
    "from nltk import edit_distance\n",
    "from torch import nn\n",
    "from torchvision import models\n",
    "from livelossplot import PlotLosses\n",
    "from tqdm import tqdm\n",
    "import numpy as np\n",
    "from PIL import Image\n",
    "import warnings\n",
    "warnings.filterwarnings(\"ignore\")\n",
    "\n",
    "device = \"cuda:1\"\n",
    "\n",
    "import albumentations as A\n",
    "import cv2\n",
    "from albumentations.pytorch import ToTensorV2"
   ]
  },
  {
   "cell_type": "code",
   "execution_count": 2,
   "metadata": {},
   "outputs": [],
   "source": [
    "train_labels = pd.read_csv(\"train_labels.csv\", sep=\",\")"
   ]
  },
  {
   "cell_type": "code",
   "execution_count": 3,
   "metadata": {},
   "outputs": [],
   "source": [
    "cnt = defaultdict(int)\n",
    "for line in train_labels[\"Expected\"].values:\n",
    "    if not isinstance(line, str):\n",
    "        line = str(line)\n",
    "    for char in line:\n",
    "        char = char.lower()\n",
    "        cnt[char] += 1\n",
    "cnt = sorted(cnt.items(), key=lambda x: x[1], reverse=True)\n",
    "\n",
    "bad_chars = set()\n",
    "for k, v in cnt:\n",
    "    if v < 500:\n",
    "        if k not in bad_chars:\n",
    "            bad_chars.add(k)"
   ]
  },
  {
   "cell_type": "code",
   "execution_count": 4,
   "metadata": {},
   "outputs": [],
   "source": [
    "def filter_texts(text, bad_chars=bad_chars):\n",
    "    if not isinstance(text, str):\n",
    "        text = str(text)\n",
    "    for ch in text:\n",
    "        if ch in bad_chars:\n",
    "            return False\n",
    "    return True"
   ]
  },
  {
   "cell_type": "code",
   "execution_count": 5,
   "metadata": {},
   "outputs": [],
   "source": [
    "train_labels[\"correct_data\"] = train_labels[\"Expected\"].apply(lambda x: filter_texts(x))\n",
    "filtred_labels = train_labels[train_labels[\"correct_data\"] == True].iloc[:, :-1]"
   ]
  },
  {
   "cell_type": "code",
   "execution_count": 6,
   "metadata": {},
   "outputs": [
    {
     "data": {
      "text/html": [
       "<div>\n",
       "<style scoped>\n",
       "    .dataframe tbody tr th:only-of-type {\n",
       "        vertical-align: middle;\n",
       "    }\n",
       "\n",
       "    .dataframe tbody tr th {\n",
       "        vertical-align: top;\n",
       "    }\n",
       "\n",
       "    .dataframe thead th {\n",
       "        text-align: right;\n",
       "    }\n",
       "</style>\n",
       "<table border=\"1\" class=\"dataframe\">\n",
       "  <thead>\n",
       "    <tr style=\"text-align: right;\">\n",
       "      <th></th>\n",
       "      <th>Id</th>\n",
       "      <th>Expected</th>\n",
       "    </tr>\n",
       "  </thead>\n",
       "  <tbody>\n",
       "    <tr>\n",
       "      <th>0</th>\n",
       "      <td>1.jpg</td>\n",
       "      <td>Атырау</td>\n",
       "    </tr>\n",
       "    <tr>\n",
       "      <th>1</th>\n",
       "      <td>2.jpg</td>\n",
       "      <td>транз</td>\n",
       "    </tr>\n",
       "    <tr>\n",
       "      <th>2</th>\n",
       "      <td>3.jpg</td>\n",
       "      <td>ходят</td>\n",
       "    </tr>\n",
       "    <tr>\n",
       "      <th>3</th>\n",
       "      <td>4.jpg</td>\n",
       "      <td>ощущений,</td>\n",
       "    </tr>\n",
       "    <tr>\n",
       "      <th>4</th>\n",
       "      <td>5.jpg</td>\n",
       "      <td>74</td>\n",
       "    </tr>\n",
       "    <tr>\n",
       "      <th>...</th>\n",
       "      <td>...</td>\n",
       "      <td>...</td>\n",
       "    </tr>\n",
       "    <tr>\n",
       "      <th>275995</th>\n",
       "      <td>275996.jpg</td>\n",
       "      <td>DO</td>\n",
       "    </tr>\n",
       "    <tr>\n",
       "      <th>275996</th>\n",
       "      <td>275997.jpg</td>\n",
       "      <td>BASUCC</td>\n",
       "    </tr>\n",
       "    <tr>\n",
       "      <th>275997</th>\n",
       "      <td>275998.jpg</td>\n",
       "      <td>1,120</td>\n",
       "    </tr>\n",
       "    <tr>\n",
       "      <th>275998</th>\n",
       "      <td>275999.jpg</td>\n",
       "      <td>наблюдателей,</td>\n",
       "    </tr>\n",
       "    <tr>\n",
       "      <th>275999</th>\n",
       "      <td>276000.jpg</td>\n",
       "      <td>пресс-секретарь</td>\n",
       "    </tr>\n",
       "  </tbody>\n",
       "</table>\n",
       "<p>272746 rows × 2 columns</p>\n",
       "</div>"
      ],
      "text/plain": [
       "                Id         Expected\n",
       "0            1.jpg           Атырау\n",
       "1            2.jpg            транз\n",
       "2            3.jpg            ходят\n",
       "3            4.jpg        ощущений,\n",
       "4            5.jpg               74\n",
       "...            ...              ...\n",
       "275995  275996.jpg               DO\n",
       "275996  275997.jpg           BASUCC\n",
       "275997  275998.jpg            1,120\n",
       "275998  275999.jpg    наблюдателей,\n",
       "275999  276000.jpg  пресс-секретарь\n",
       "\n",
       "[272746 rows x 2 columns]"
      ]
     },
     "execution_count": 6,
     "metadata": {},
     "output_type": "execute_result"
    }
   ],
   "source": [
    "filtred_labels"
   ]
  },
  {
   "cell_type": "code",
   "execution_count": 7,
   "metadata": {},
   "outputs": [],
   "source": [
    "train, val = train_test_split(filtred_labels, shuffle=True, test_size=0.2, random_state=42)"
   ]
  },
  {
   "cell_type": "code",
   "execution_count": 8,
   "metadata": {},
   "outputs": [],
   "source": [
    "char2idx = {\"山\":0}\n",
    "abc = [\"山\"]\n",
    "idx2char = {0: \"山\"}\n",
    "cnt = 1\n",
    "for line in filtred_labels[\"Expected\"].values:\n",
    "    if not isinstance(line, str):\n",
    "        line = str(line)\n",
    "    for ch in line:\n",
    "        ch = ch.lower()\n",
    "        if ch not in char2idx:\n",
    "            abc.append(ch)\n",
    "            char2idx[ch] = cnt\n",
    "            idx2char[cnt] = ch\n",
    "            cnt += 1"
   ]
  },
  {
   "cell_type": "code",
   "execution_count": 9,
   "metadata": {},
   "outputs": [],
   "source": [
    "class RecognitionDataset(Dataset):\n",
    "\n",
    "    def __init__(self, folder_path, df, char2idx, transforms=None):\n",
    "        super(RecognitionDataset, self).__init__()\n",
    "        self.folder_path = folder_path\n",
    "        self.transforms = transforms\n",
    "        self.df = df\n",
    "        self.char2idx = char2idx\n",
    "\n",
    "    def __len__(self):\n",
    "        return self.df.shape[0]\n",
    "    \n",
    "    def __text_to_seq(self, text):\n",
    "        if not isinstance(text, str):\n",
    "            text = str(text)\n",
    "        return [self.char2idx[ch.lower()] for ch in text]\n",
    "        \n",
    "    def __getitem__(self, idx):\n",
    "        image_path = osp.join(self.folder_path, self.df.iloc[idx][\"Id\"])\n",
    "#         image = Image.open(image_path).convert(\"RGB\")\n",
    "        \n",
    "        img = cv2.imread(image_path)\n",
    "        img = cv2.cvtColor(img,cv2.COLOR_BGR2RGB)\n",
    "        if self.transforms:\n",
    "            image = self.transforms(image=img)[\"image\"]\n",
    "        \n",
    "        text = self.df.iloc[idx][\"Expected\"]\n",
    "        seq = self.__text_to_seq(text)\n",
    "        seq_len = len(seq)\n",
    "        output = dict(image=image, seq=seq, seq_len=seq_len, text=text)\n",
    "\n",
    "        return output"
   ]
  },
  {
   "cell_type": "code",
   "execution_count": 10,
   "metadata": {
    "id": "syJrTY5xrCUy"
   },
   "outputs": [],
   "source": [
    "def collate_fn(batch):\n",
    "    images, seqs, seq_lens, texts = [], [], [], []\n",
    "    for item in batch:\n",
    "        images.append(item[\"image\"])\n",
    "        seqs.extend(item[\"seq\"])\n",
    "        seq_lens.append(item[\"seq_len\"])\n",
    "        texts.append(item[\"text\"])\n",
    "    images = torch.stack(images)\n",
    "    seqs = torch.Tensor(seqs).int()\n",
    "    seq_lens = torch.Tensor(seq_lens).int()\n",
    "    batch = {\"images\": images, \"seq\": seqs, \"seq_len\": seq_lens, \"text\": texts}\n",
    "    return batch"
   ]
  },
  {
   "cell_type": "markdown",
   "metadata": {},
   "source": [
    "## Dataloaders"
   ]
  },
  {
   "cell_type": "markdown",
   "metadata": {},
   "source": [
    "Буду аугментировать данные согласно статье https://towardsdatascience.com/effective-data-augmentation-for-ocr-8013080aa9fa"
   ]
  },
  {
   "cell_type": "code",
   "execution_count": 11,
   "metadata": {},
   "outputs": [],
   "source": [
    "aug = A.Compose([\n",
    "                A.RandomRain(brightness_coefficient=1.0, drop_length=2, drop_width=2, \n",
    "                              drop_color = (0, 0, 0), blur_value=1, \n",
    "                              rain_type = 'drizzle', p=0.05),\n",
    "                 A.RandomShadow(p=0.2),\n",
    "                 A.PixelDropout(p=0.3),\n",
    "                 A.ShiftScaleRotate(shift_limit=0, scale_limit=0.25, rotate_limit=2, \n",
    "                                    border_mode=cv2.BORDER_CONSTANT, value=(255,255,255), p=0.5),\n",
    "                 A.Blur(blur_limit=5, p=0.25),\n",
    "                ])"
   ]
  },
  {
   "cell_type": "code",
   "execution_count": 12,
   "metadata": {},
   "outputs": [],
   "source": [
    "train_transforms = A.Compose([A.Resize(64, 320),\n",
    "                              aug,\n",
    "                              A.Normalize(mean=(0.5, 0.5, 0.5), std=(0.5, 0.5, 0.5)),\n",
    "                              ToTensorV2()])\n",
    "\n",
    "val_transforms = A.Compose([A.Resize(64, 320),\n",
    "                              aug,\n",
    "                              A.Normalize(mean=(0.5, 0.5, 0.5), std=(0.5, 0.5, 0.5)),\n",
    "                              ToTensorV2()])\n"
   ]
  },
  {
   "cell_type": "code",
   "execution_count": 13,
   "metadata": {},
   "outputs": [],
   "source": [
    "train_dataset = RecognitionDataset(folder_path=\"train/train\", df=train, \n",
    "                                   char2idx=char2idx, transforms=train_transforms)\n",
    "\n",
    "val_dataset = RecognitionDataset(folder_path=\"train/train\", df=val, \n",
    "                                 char2idx=char2idx, transforms=train_transforms)"
   ]
  },
  {
   "cell_type": "code",
   "execution_count": 14,
   "metadata": {},
   "outputs": [],
   "source": [
    "train_dataloader = DataLoader(train_dataset, batch_size=256, shuffle=True, drop_last=True, \n",
    "                              collate_fn=collate_fn, num_workers=6)\n",
    "val_dataloader = DataLoader(val_dataset, batch_size=256, shuffle=False, drop_last=True, \n",
    "                            collate_fn=collate_fn, num_workers=6)"
   ]
  },
  {
   "cell_type": "markdown",
   "metadata": {},
   "source": [
    "## Model"
   ]
  },
  {
   "cell_type": "code",
   "execution_count": 15,
   "metadata": {},
   "outputs": [],
   "source": [
    "max_ctc_len = 32\n",
    "h, w = (64, 320)"
   ]
  },
  {
   "cell_type": "code",
   "execution_count": 16,
   "metadata": {
    "id": "FDeCM4VA6Xkx"
   },
   "outputs": [],
   "source": [
    "class FeatureExtractor(nn.Module):\n",
    "    \n",
    "    def __init__(self, input_size=(h, w), output_len=max_ctc_len):\n",
    "        super(FeatureExtractor, self).__init__()\n",
    "        \n",
    "        h, w = input_size\n",
    "        resnet = getattr(models, 'resnet34')(pretrained=True)\n",
    "        self.cnn = nn.Sequential(*list(resnet.children())[:-2])\n",
    "        \n",
    "        self.pool = nn.AvgPool2d(kernel_size=(h // 32, 1))        \n",
    "        self.proj = nn.Conv2d(w // 32, output_len, kernel_size=1)\n",
    "  \n",
    "        self.num_output_features = self.cnn[-1][-1].bn2.num_features    \n",
    "    \n",
    "    def apply_projection(self, x):\n",
    "        \"\"\"Use convolution to increase width of a features.\n",
    "        \n",
    "        Args:\n",
    "            - x: Tensor of features (shaped B x C x H x W).\n",
    "            \n",
    "        Returns:\n",
    "            New tensor of features (shaped B x C x H x W').\n",
    "        \"\"\"\n",
    "        x = x.permute(0, 3, 2, 1).contiguous()\n",
    "        x = self.proj(x)\n",
    "        x = x.permute(0, 2, 3, 1).contiguous()\n",
    "        \n",
    "        return x\n",
    "   \n",
    "    def forward(self, x):\n",
    "        # Apply conv layers\n",
    "        features = self.cnn(x)\n",
    "        \n",
    "        # Pool to make height == 1\n",
    "        features = self.pool(features)\n",
    "        \n",
    "        # Apply projection to increase width\n",
    "        features = self.apply_projection(features)\n",
    "        \n",
    "        return features\n",
    "\n",
    "\n",
    "class SequencePredictor(nn.Module):\n",
    "    \n",
    "    def __init__(self, input_size, hidden_size, num_layers, num_classes, dropout=0.3, bidirectional=False):\n",
    "        super(SequencePredictor, self).__init__()\n",
    "        \n",
    "        self.num_classes = num_classes        \n",
    "        self.rnn = nn.GRU(input_size=input_size,\n",
    "                       hidden_size=hidden_size,\n",
    "                       num_layers=num_layers,\n",
    "                       dropout=dropout,\n",
    "                       bidirectional=bidirectional)\n",
    "        \n",
    "        fc_in = hidden_size if not bidirectional else 2 * hidden_size\n",
    "        self.fc = nn.Linear(in_features=fc_in,\n",
    "                         out_features=num_classes)\n",
    "    \n",
    "    def _init_hidden(self, batch_size):\n",
    "        \"\"\"Initialize new tensor of zeroes for RNN hidden state.\n",
    "        \n",
    "        Args:\n",
    "            - batch_size: Int size of batch\n",
    "            \n",
    "        Returns:\n",
    "            Tensor of zeros shaped (num_layers * num_directions, batch, hidden_size).\n",
    "        \"\"\"\n",
    "        num_directions = 2 if self.rnn.bidirectional else 1\n",
    "        \n",
    "        # YOUR CODE HERE\n",
    "        h = torch.zeros(self.rnn.num_layers * num_directions, batch_size, self.rnn.hidden_size)\n",
    "        # END OF YOUR CODE\n",
    "        \n",
    "        return h\n",
    "        \n",
    "    def _reshape_features(self, x):\n",
    "        \"\"\"Change dimensions of x to fit RNN expected input.\n",
    "        \n",
    "        Args:\n",
    "            - x: Tensor x shaped (B x (C=1) x H x W).\n",
    "        \n",
    "        Returns:\n",
    "            New tensor shaped (W x B x H).\n",
    "        \"\"\"\n",
    "        \n",
    "        # YOUR CODE HERE\n",
    "        x = x.squeeze(1)\n",
    "        x = x.permute(2, 0, 1)\n",
    "        # END OF YOUR CODE\n",
    "        \n",
    "        return x\n",
    "    \n",
    "    def forward(self, x):\n",
    "        x = self._reshape_features(x)\n",
    "        \n",
    "        batch_size = x.size(1)\n",
    "        h_0 = self._init_hidden(batch_size)\n",
    "        h_0 = h_0.to(x.device)\n",
    "        x, h = self.rnn(x, h_0)\n",
    "        \n",
    "        x = self.fc(x)\n",
    "        return x\n",
    "\n",
    "\n",
    "class CRNN(nn.Module):\n",
    "    \n",
    "    def __init__(self, alphabet=len(idx2char),\n",
    "                 cnn_input_size=(h, w), cnn_output_len=max_ctc_len,\n",
    "                 rnn_hidden_size=128, rnn_num_layers=2, rnn_dropout=0.3, rnn_bidirectional=False):\n",
    "        super(CRNN, self).__init__()\n",
    "        self.alphabet = alphabet\n",
    "        self.features_extractor = FeatureExtractor(input_size=cnn_input_size, output_len=cnn_output_len)\n",
    "        self.sequence_predictor = SequencePredictor(input_size=self.features_extractor.num_output_features,\n",
    "                                                    hidden_size=rnn_hidden_size, num_layers=rnn_num_layers,\n",
    "                                                    num_classes=alphabet, dropout=rnn_dropout,\n",
    "                                                    bidirectional=rnn_bidirectional)\n",
    "    \n",
    "    def forward(self, x):\n",
    "        features = self.features_extractor(x)\n",
    "        sequence = self.sequence_predictor(features)\n",
    "        return sequence\n"
   ]
  },
  {
   "cell_type": "code",
   "execution_count": 17,
   "metadata": {
    "id": "AF2fWiFvBWFa"
   },
   "outputs": [],
   "source": [
    "def pred_to_string(pred, idx2char=idx2char):\n",
    "    seq = []\n",
    "    for i in range(len(pred)):\n",
    "        seq.append(np.argmax(pred[i]))\n",
    "    out = []\n",
    "    for i in range(len(seq)):\n",
    "        if len(out) == 0:\n",
    "            if seq[i] != 0:\n",
    "                out.append(seq[i])\n",
    "        else:\n",
    "            if seq[i] != 0 and seq[i] != seq[i - 1]:\n",
    "                out.append(seq[i])\n",
    "    out = \"\".join([idx2char[c] for c in out])\n",
    "    return out\n",
    "\n",
    "def decode(pred, idx2char=idx2char):\n",
    "    pred = pred.permute(1, 0, 2).cpu().data.numpy()\n",
    "    outputs = []\n",
    "    for i in range(len(pred)):\n",
    "        outputs.append(pred_to_string(pred[i], idx2char))\n",
    "    return outputs"
   ]
  },
  {
   "cell_type": "code",
   "execution_count": 18,
   "metadata": {},
   "outputs": [],
   "source": [
    "class EarlyStopping:\n",
    "    def __init__(self, track_metric_extreme=float(\"inf\"), patience=7):\n",
    "        self.track_metric_extreme = track_metric_extreme\n",
    "        self.cnt = 0\n",
    "        self.patience = patience\n",
    "        self.early_stop = False\n",
    "\n",
    "    def __call__(self, track_metric):\n",
    "        if track_metric < self.track_metric_extreme:\n",
    "            self.track_metric_extreme = track_metric\n",
    "            self.cnt = 0\n",
    "        else:\n",
    "            self.cnt += 1\n",
    "            if self.cnt == self.patience:\n",
    "                self.early_stop = True"
   ]
  },
  {
   "cell_type": "code",
   "execution_count": 19,
   "metadata": {
    "colab": {
     "base_uri": "https://localhost:8080/"
    },
    "id": "FJo3jOVr7Qq1",
    "outputId": "97b501cc-ed20-4893-ff29-b8b65476b302"
   },
   "outputs": [],
   "source": [
    "device = \"cuda:1\"\n",
    "model = CRNN()\n",
    "# model.features_extractor.cnn.load_state_dict(torch.load(\"resnet34_cnn.pth\", map_location=device))\n",
    "model.to(device);"
   ]
  },
  {
   "cell_type": "code",
   "execution_count": 20,
   "metadata": {},
   "outputs": [],
   "source": [
    "criterion = nn.CTCLoss(zero_infinity=True)\n",
    "optimizer = torch.optim.Adam(model.parameters(), lr=3e-4, amsgrad=True, weight_decay=1e-4)\n",
    "scheduler = torch.optim.lr_scheduler.ReduceLROnPlateau(optimizer, \"min\", patience=5)\n",
    "epoch_num = 50\n",
    "early_stopping = EarlyStopping()"
   ]
  },
  {
   "cell_type": "code",
   "execution_count": 21,
   "metadata": {},
   "outputs": [],
   "source": [
    "def get_edit_dist(decoded_texts, gt_texts):\n",
    "    res = 0\n",
    "    for dec, gt in zip(decoded_texts, gt_texts):\n",
    "        if not isinstance(dec, str):\n",
    "            dec = str(dec)\n",
    "        if not isinstance(gt, str):\n",
    "            gt = str(gt)\n",
    "        res += edit_distance(dec, gt)\n",
    "    res /= len(decoded_texts)\n",
    "    return res"
   ]
  },
  {
   "cell_type": "code",
   "execution_count": 22,
   "metadata": {
    "colab": {
     "base_uri": "https://localhost:8080/",
     "height": 1000
    },
    "id": "1JKnRIl9ptDT",
    "outputId": "f980e042-a5d3-4825-c906-db66d015f507"
   },
   "outputs": [],
   "source": [
    "def train(model,\n",
    "          criterion,\n",
    "          optimizer,\n",
    "          scheduler,\n",
    "          train_loader,\n",
    "          val_loader, \n",
    "          epoch_num,\n",
    "          experiment_name,\n",
    "          early_stopping,):\n",
    "\n",
    "    valid_loss = 0\n",
    "    plotter = PlotLosses()\n",
    "    min_cer = float(\"inf\")\n",
    "    \n",
    "    for epoch in range(epoch_num):\n",
    "        model.train()\n",
    "        batch_loss = 0\n",
    "        batch_cer = 0\n",
    "        for idx, batch in enumerate(train_loader):\n",
    "            optimizer.zero_grad()\n",
    "\n",
    "            img, seq = batch[\"images\"], batch[\"seq\"]\n",
    "            img = img.to(device)\n",
    "            logits = model(img)\n",
    "            preds = logits.log_softmax(2)\n",
    "            predicted_text = decode(logits)\n",
    "            seq_lens_pred = torch.Tensor([preds.size(0)] * preds.size(1)).int()\n",
    "            \n",
    "            loss = criterion(preds, seq, seq_lens_pred, batch[\"seq_len\"])\n",
    "            batch_loss += loss.item()\n",
    "            \n",
    "            batch_cer += get_edit_dist(predicted_text, batch[\"text\"])\n",
    "            \n",
    "            loss.backward()\n",
    "            optimizer.step()\n",
    "\n",
    "\n",
    "            with open(f\"{experiment_name}.log\", \"a\") as f:\n",
    "                for line in predicted_text[:10]:\n",
    "                    f.write(f\"train_dec: {line}\\n\")\n",
    "\n",
    "            if idx % 20 == 19:\n",
    "                plotter.update({\"train_loss\": batch_loss / (idx + 1),\n",
    "                               \"train_cer\": batch_cer / (idx + 1)})\n",
    "                plotter.send()\n",
    "        \n",
    "        train_loss = batch_loss / len(train_loader)\n",
    "        train_cer = batch_cer / len(train_loader)\n",
    "        \n",
    "        with open(f\"{experiment_name}_training.log\", \"a\") as f:\n",
    "            f.write(f\"Epoch {epoch} train_loss={round(train_loss, 4)} train_cer={round(train_cer, 4)}\")\n",
    "        \n",
    "        with torch.no_grad():\n",
    "            model.eval()\n",
    "            batch_loss = 0\n",
    "            batch_cer = 0\n",
    "            \n",
    "            for idx, batch in enumerate(val_loader):\n",
    "                \n",
    "                img, seq = batch[\"images\"], batch[\"seq\"]\n",
    "                img = img.to(device)\n",
    "                \n",
    "                logits = model(img)\n",
    "                preds = logits.log_softmax(2)\n",
    "                predicted_text = decode(logits)\n",
    "                seq_lens_pred = torch.Tensor([preds.size(0)] * preds.size(1)).int()\n",
    "            \n",
    "                loss = criterion(preds, seq, seq_lens_pred, batch[\"seq_len\"])\n",
    "\n",
    "                batch_loss += loss.item()\n",
    "                batch_cer += get_edit_dist(predicted_text, batch[\"text\"])\n",
    "                \n",
    "                with open(f\"{experiment_name}.log\", \"a\") as f:\n",
    "                    for line in predicted_text[:10]:\n",
    "                        f.write(f\"val_dec: {line}\\n\")\n",
    "\n",
    "            mean_cer = batch_cer / len(val_loader)\n",
    "            valid_loss = batch_loss / len(val_loader)\n",
    "            scheduler.step(valid_loss)\n",
    "        \n",
    "            with open(f\"{experiment_name}_training.log\", \"a\") as f:\n",
    "                 f.write(f\"val_loss={round(valid_loss, 4)} val_cer={round(mean_cer, 4)}\\n\")\n",
    "            \n",
    "            if mean_cer < min_cer:\n",
    "                torch.save(model.state_dict(), f\"weights/{experiment_name}.pth\")\n",
    "                min_cer = mean_cer\n",
    "\n",
    "            plotter.update({\"val_loss\": valid_loss, \"val_cer\": mean_cer})\n",
    "            plotter.send()\n",
    "\n",
    "            early_stopping(track_metric=valid_loss)\n",
    "            if early_stopping.early_stop:\n",
    "                print(f\"Early stop on {epoch} epoch\")\n",
    "                break"
   ]
  },
  {
   "cell_type": "code",
   "execution_count": 23,
   "metadata": {},
   "outputs": [
    {
     "data": {
      "image/png": "[encoded data removed]",
      "text/plain": [
       "<Figure size 864x864 with 4 Axes>"
      ]
     },
     "metadata": {
      "needs_background": "light"
     },
     "output_type": "display_data"
    },
    {
     "name": "stdout",
     "output_type": "stream",
     "text": [
      "cer\n",
      "\tvalidation       \t (min:    2.633, max:    6.442, cur:    2.633)\n",
      "Loss\n",
      "\tvalidation       \t (min:    0.930, max:    3.667, cur:    0.930)\n",
      "train_cer\n",
      "\ttraining         \t (min:    2.375, max:    8.637, cur:    2.447)\n",
      "train_loss\n",
      "\ttraining         \t (min:    0.624, max:   18.220, cur:    0.669)\n"
     ]
    },
    {
     "name": "stderr",
     "output_type": "stream",
     "text": [
      "IOPub message rate exceeded.\n",
      "The notebook server will temporarily stop sending output\n",
      "to the client in order to avoid crashing it.\n",
      "To change this limit, set the config variable\n",
      "`--NotebookApp.iopub_msg_rate_limit`.\n",
      "\n",
      "Current values:\n",
      "NotebookApp.iopub_msg_rate_limit=1000.0 (msgs/sec)\n",
      "NotebookApp.rate_limit_window=3.0 (secs)\n",
      "\n"
     ]
    }
   ],
   "source": [
    "train(model=model,\n",
    "      criterion=criterion,\n",
    "      optimizer=optimizer,\n",
    "      scheduler=scheduler,\n",
    "      train_loader=train_dataloader,\n",
    "      val_loader=val_dataloader,\n",
    "      epoch_num=epoch_num,\n",
    "      experiment_name=\"resnet34_alb\",\n",
    "      early_stopping=early_stopping)"
   ]
  },
  {
   "cell_type": "code",
   "execution_count": null,
   "metadata": {},
   "outputs": [],
   "source": []
  },
  {
   "cell_type": "code",
   "execution_count": null,
   "metadata": {},
   "outputs": [],
   "source": []
  },
  {
   "cell_type": "code",
   "execution_count": null,
   "metadata": {},
   "outputs": [],
   "source": []
  },
  {
   "cell_type": "code",
   "execution_count": null,
   "metadata": {},
   "outputs": [],
   "source": []
  },
  {
   "cell_type": "code",
   "execution_count": null,
   "metadata": {},
   "outputs": [],
   "source": []
  },
  {
   "cell_type": "code",
   "execution_count": null,
   "metadata": {},
   "outputs": [],
   "source": []
  },
  {
   "cell_type": "code",
   "execution_count": null,
   "metadata": {},
   "outputs": [],
   "source": []
  },
  {
   "cell_type": "code",
   "execution_count": 25,
   "metadata": {
    "colab": {
     "base_uri": "https://localhost:8080/"
    },
    "id": "70czhAHPV2Gi",
    "outputId": "6033a30f-d749-49bf-e525-ce6eb954fef2"
   },
   "outputs": [
    {
     "data": {
      "text/plain": [
       "<All keys matched successfully>"
      ]
     },
     "execution_count": 25,
     "metadata": {},
     "output_type": "execute_result"
    }
   ],
   "source": [
    "model.load_state_dict(torch.load(\"weights/resnet34_alb.pth\"))"
   ]
  },
  {
   "cell_type": "code",
   "execution_count": 41,
   "metadata": {
    "id": "OfxFqcro14XN"
   },
   "outputs": [],
   "source": [
    "def collate_fn_test(batch):\n",
    "    images, seqs, seq_lens, texts = [], [], [], []\n",
    "    for item in batch:\n",
    "        images.append(item[\"images\"].float())\n",
    "    images = torch.stack(images)\n",
    "    batch = {\"images\": images}\n",
    "    return batch\n",
    "\n",
    "def pred_image(image_path, device):\n",
    "    image = Image.open(image_path)\n",
    "    image_tensor = test_transforms(image).unsqueeze(0)\n",
    "    image_tensor = image_tensor.to(device)\n",
    "    preds = model(image_tensor).cpu().detach()\n",
    "    texts_pred = decode(preds)\n",
    "    return texts_pred[0]\n",
    "\n",
    "\n",
    "test_transforms = T.Compose([T.Resize((64, 320)),\n",
    "                             T.ToTensor(),\n",
    "                             T.Normalize((0.5, 0.5, 0.5), (0.5, 0.5, 0.5)),])\n",
    "                                      \n",
    "\n",
    "test = pd.read_csv(\"sample_submission.csv\", sep=\",\")\n",
    "test_dataset = RecognitionDataset(folder_path=\"test/test\", df=test, \n",
    "                                 char2idx=char2idx, transforms=test_transforms)\n",
    "\n",
    "test_dataloader = DataLoader(test_dataset, batch_size=1, shuffle=False, collate_fn=collate_fn_test, num_workers=6)\n",
    "\n",
    "model.eval()\n",
    "sample_submission = pd.read_csv(\"sample_submission.csv\")\n",
    "counter = 0\n",
    "for row in tqdm(sample_submission.iterrows()):\n",
    "    filename = row[1][\"Id\"]\n",
    "    text = pred_image(osp.join(\"test/test\", filename), device)\n",
    "    row[1][\"Predicted\"] = text\n",
    "\n",
    "sample_submission.to_csv(\"result_resnet34_alb.csv\", index=False)\n",
    "\n",
    "file = \"5.jpg\"\n",
    "img = Image.open(f\"test/test/{file}\")\n",
    "img\n",
    "\n",
    "sample_submission[sample_submission[\"Id\"] == file]"
   ]
  },
  {
   "cell_type": "code",
   "execution_count": 42,
   "metadata": {
    "id": "zQ5NsXTw0Z87"
   },
   "outputs": [],
   "source": [
    "test_transforms = T.Compose([T.Resize((64, 320)),\n",
    "                             T.ToTensor(),\n",
    "                             T.Normalize((0.5, 0.5, 0.5), (0.5, 0.5, 0.5)),])\n",
    "                                      \n",
    "\n",
    "# test_dataset = CaptchaDataset(ROOT, \"sample_submission.csv\", label2idx, False, test_transforms)\n",
    "test = pd.read_csv(\"sample_submission.csv\", sep=\",\")\n",
    "test_dataset = RecognitionDataset(folder_path=\"test/test\", df=test, \n",
    "                                 char2idx=char2idx, transforms=test_transforms)\n",
    "\n",
    "test_dataloader = DataLoader(test_dataset, batch_size=1, shuffle=False, collate_fn=collate_fn_test, num_workers=6)"
   ]
  },
  {
   "cell_type": "code",
   "execution_count": 44,
   "metadata": {},
   "outputs": [
    {
     "name": "stderr",
     "output_type": "stream",
     "text": [
      "52999it [06:44, 131.04it/s]\n"
     ]
    }
   ],
   "source": [
    "model.eval()\n",
    "sample_submission = pd.read_csv(\"sample_submission.csv\")\n",
    "counter = 0\n",
    "for row in tqdm(sample_submission.iterrows()):\n",
    "    filename = row[1][\"Id\"]\n",
    "    text = pred_image(osp.join(\"test/test\", filename), device)\n",
    "    row[1][\"Predicted\"] = text\n",
    "\n",
    "sample_submission.to_csv(\"result_resnet34_alb.csv\", index=False)"
   ]
  },
  {
   "cell_type": "code",
   "execution_count": 51,
   "metadata": {},
   "outputs": [
    {
     "data": {
      "image/png": "[encoded data removed]",
      "text/plain": [
       "<PIL.JpegImagePlugin.JpegImageFile image mode=RGB size=71x25>"
      ]
     },
     "execution_count": 51,
     "metadata": {},
     "output_type": "execute_result"
    }
   ],
   "source": [
    "file = \"5.jpg\"\n",
    "img = Image.open(f\"test/test/{file}\")\n",
    "img"
   ]
  },
  {
   "cell_type": "code",
   "execution_count": 52,
   "metadata": {},
   "outputs": [
    {
     "data": {
      "text/html": [
       "<div>\n",
       "<style scoped>\n",
       "    .dataframe tbody tr th:only-of-type {\n",
       "        vertical-align: middle;\n",
       "    }\n",
       "\n",
       "    .dataframe tbody tr th {\n",
       "        vertical-align: top;\n",
       "    }\n",
       "\n",
       "    .dataframe thead th {\n",
       "        text-align: right;\n",
       "    }\n",
       "</style>\n",
       "<table border=\"1\" class=\"dataframe\">\n",
       "  <thead>\n",
       "    <tr style=\"text-align: right;\">\n",
       "      <th></th>\n",
       "      <th>Id</th>\n",
       "      <th>Predicted</th>\n",
       "    </tr>\n",
       "  </thead>\n",
       "  <tbody>\n",
       "    <tr>\n",
       "      <th>4</th>\n",
       "      <td>5.jpg</td>\n",
       "      <td>bao</td>\n",
       "    </tr>\n",
       "  </tbody>\n",
       "</table>\n",
       "</div>"
      ],
      "text/plain": [
       "      Id Predicted\n",
       "4  5.jpg       bao"
      ]
     },
     "execution_count": 52,
     "metadata": {},
     "output_type": "execute_result"
    }
   ],
   "source": [
    "sample_submission[sample_submission[\"Id\"] == file]"
   ]
  }
 ],
 "metadata": {
  "accelerator": "GPU",
  "colab": {
   "gpuType": "T4",
   "provenance": []
  },
  "kernelspec": {
   "display_name": "Python 3 (ipykernel)",
   "language": "python",
   "name": "python3"
  },
  "language_info": {
   "codemirror_mode": {
    "name": "ipython",
    "version": 3
   },
   "file_extension": ".py",
   "mimetype": "text/x-python",
   "name": "python",
   "nbconvert_exporter": "python",
   "pygments_lexer": "ipython3",
   "version": "3.9.10"
  }
 },
 "nbformat": 4,
 "nbformat_minor": 4
}
